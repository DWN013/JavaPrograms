{
  "nbformat": 4,
  "nbformat_minor": 0,
  "metadata": {
    "colab": {
      "provenance": [],
      "include_colab_link": true
    },
    "kernelspec": {
      "name": "python3",
      "display_name": "Python 3"
    },
    "language_info": {
      "name": "python"
    }
  },
  "cells": [
    {
      "cell_type": "markdown",
      "metadata": {
        "id": "view-in-github",
        "colab_type": "text"
      },
      "source": [
        "<a href=\"https://colab.research.google.com/github/DWN013/JavaPrograms/blob/main/EECS4415N_A1_Template.ipynb\" target=\"_parent\"><img src=\"https://colab.research.google.com/assets/colab-badge.svg\" alt=\"Open In Colab\"/></a>"
      ]
    },
    {
      "cell_type": "markdown",
      "source": [
        "# EECS 4415N - Assignment 1"
      ],
      "metadata": {
        "id": "8v9rqhpDxq1F"
      }
    },
    {
      "cell_type": "markdown",
      "source": [
        "**Full Name:**\n",
        "\n",
        "**Student Number:**"
      ],
      "metadata": {
        "id": "y2ZHlmPhvuhm"
      }
    },
    {
      "cell_type": "markdown",
      "source": [
        "**Please do not use any other libraries other than the ones imported below.**\n",
        "\n",
        "**Please write your code in the \"Your code\" parts.**"
      ],
      "metadata": {
        "id": "s1SqvQfAwOa9"
      }
    },
    {
      "cell_type": "markdown",
      "source": [
        "Install PySpark"
      ],
      "metadata": {
        "id": "ucU0FohetFXu"
      }
    },
    {
      "cell_type": "code",
      "execution_count": null,
      "metadata": {
        "id": "VSXfAf8KdeIV"
      },
      "outputs": [],
      "source": [
        "!pip install pyspark\n",
        "!pip install -U -q PyDrive2\n",
        "\n",
        "!apt install openjdk-8-jdk-headless -qq\n",
        "import os\n",
        "os.environ[\"JAVA_HOME\"] = \"/usr/lib/jvm/java-8-openjdk-amd64\""
      ]
    },
    {
      "cell_type": "markdown",
      "source": [
        "Import libaries"
      ],
      "metadata": {
        "id": "N1H0hYxQtJfO"
      }
    },
    {
      "cell_type": "code",
      "source": [
        "from pyspark import SparkContext\n",
        "from pyspark.sql import SparkSession\n",
        "from pyspark.sql.types import *\n",
        "\n",
        "# create the Spark Session\n",
        "spark = SparkSession.builder.getOrCreate()\n",
        "\n",
        "# create the Spark Context for working with RDDs\n",
        "sc = spark.sparkContext"
      ],
      "metadata": {
        "id": "MOII1NXjdy4J"
      },
      "execution_count": null,
      "outputs": []
    },
    {
      "cell_type": "markdown",
      "source": [
        "\n",
        "Load the transactions and item names from the files (e.g., walmart1.csv and ID2NAME.csv). Please put the files"
      ],
      "metadata": {
        "id": "4HHnEeQR4kg3"
      }
    },
    {
      "cell_type": "code",
      "source": [
        "# Specify the filenames\n",
        "transactions_filename = 'walmart1.csv'\n",
        "item_names_filename = 'ID2Name.csv'\n",
        "\n",
        "# Read transactions into an RDD\n",
        "# Your code\n",
        "\n",
        "# Read the item ID2Name file into a Python dictionary\n",
        "# Your code\n",
        "\n",
        "# Print the number of transactions  (You can keep it in a variable so that you can use it later)\n",
        "# Your code"
      ],
      "metadata": {
        "id": "VHZ1iIxa4wMf"
      },
      "execution_count": null,
      "outputs": []
    },
    {
      "cell_type": "markdown",
      "source": [
        "Function to calculate frequent 1-itemsets using RDD operations"
      ],
      "metadata": {
        "id": "RcpY2IUelDC8"
      }
    },
    {
      "cell_type": "code",
      "source": [
        "def find_frequent_1_itemsets(transactions, min_support_count:int):\n",
        "  '''\n",
        "  :@transactions: RDD of transactions\n",
        "  :@min_support_count: the minimum number of transactions an itemset must appear to be frequent\n",
        "  '''\n",
        "  # Your code\n",
        "\n",
        "  return frequent_1_itemsets  #return the frequent-itemsets of length 1"
      ],
      "metadata": {
        "id": "BIKkWY3blIUm"
      },
      "execution_count": null,
      "outputs": []
    },
    {
      "cell_type": "markdown",
      "source": [
        "Function to generate candidates of size k from frequent itemsets of size k-1.  \n",
        "Your code must have the join and prune steps of the Apriori algorithm"
      ],
      "metadata": {
        "id": "2lI5NFB6lLJW"
      }
    },
    {
      "cell_type": "code",
      "source": [
        "from itertools import combinations\n",
        "def generate_candidates(frequent_itemsets:list, k:int):\n",
        "  '''\n",
        "  :@frequent_itemsets: frequent itemsets of length k-1, which is the output of find_frequent_1_itemsets/find_frequent_k_itemsets\n",
        "  :@k: the size of candidate itemsets to generate\n",
        "  '''\n",
        "  # Your code\n",
        "\n",
        "  return candidates_k  # return the set of candidates of length k"
      ],
      "metadata": {
        "id": "fHBHxHBJlZAY"
      },
      "execution_count": null,
      "outputs": []
    },
    {
      "cell_type": "markdown",
      "source": [
        "Function to compute the support count of each candidate and filter out infrequent candidates"
      ],
      "metadata": {
        "id": "cRlKNr4SlbLu"
      }
    },
    {
      "cell_type": "code",
      "source": [
        "def find_frequent_k_itemsets(transactions, candidates, min_support_count):\n",
        "  '''\n",
        "  :@transactions: RDD of transactions\n",
        "  :@candidates: the set of candidates to be considered for frequent itemsets\n",
        "  :@min_support_count: the minimum number of transactions an itemset must appear to be frequent\n",
        "  '''\n",
        "  # Your code\n",
        "\n",
        "  return frequent_k_itemsets # return the frequent itemsets of length k"
      ],
      "metadata": {
        "id": "JL6GHVeinQ--"
      },
      "execution_count": null,
      "outputs": []
    },
    {
      "cell_type": "markdown",
      "source": [
        "Apriori algorithm: use the above functions to find frequent itemsets of all lengths given a RDD of transactions and a minumum support"
      ],
      "metadata": {
        "id": "w2BMZ46aqkCE"
      }
    },
    {
      "cell_type": "code",
      "source": [
        "def apriori(transactions, min_support):\n",
        "  '''\n",
        "  :@transactions: RDD of transactions\n",
        "  :@min_support: the minimum support threshold for an itemset to be frequent\n",
        "  '''\n",
        "  # Your code\n",
        "\n",
        "\n",
        "  return frequent_itemsets_all  # return the frequent itemsets of all lengths"
      ],
      "metadata": {
        "id": "9dryn10Oqous"
      },
      "execution_count": null,
      "outputs": []
    },
    {
      "cell_type": "markdown",
      "source": [
        "Print all frequent itemsets using item IDs and their support counts"
      ],
      "metadata": {
        "id": "6Nh1RQRCFCIR"
      }
    },
    {
      "cell_type": "code",
      "source": [
        "# For each level (length), print IDs of frequent itemsets\n",
        "def print_frequent_itemsets(frequent_itemsets_all):\n",
        "  '''\n",
        "  :@frequent_itemsets_all: the output of the apriori function (list of lists. Each inner list is a list of tuples)\n",
        "  '''\n",
        "  # Your code"
      ],
      "metadata": {
        "id": "NrQ41DELFEtZ"
      },
      "execution_count": null,
      "outputs": []
    },
    {
      "cell_type": "markdown",
      "source": [
        "Function to generate strong association rules and remove misleading rules"
      ],
      "metadata": {
        "id": "nasez8iIk5_G"
      }
    },
    {
      "cell_type": "code",
      "source": [
        "def generate_association_rules(frequent_itemsets_all, min_confidence):\n",
        "  '''\n",
        "  :@frequent_itemsets: the output of the apriori function\n",
        "  :@min_confidence: the minimum confidence for a rule to be considered interesting\n",
        "  '''\n",
        "  # generate the association rules from the frequent itemsets\n",
        "  # rules are of the form (X, Y, support, confidence) which means X => Y [support, confidence]\n",
        "  # Your code\n",
        "\n",
        "  # prune the misleading rules by using the lift measure\n",
        "  # Your code\n",
        "\n",
        "  # return a list of rules\n",
        "  return rules"
      ],
      "metadata": {
        "id": "g0LLWp-ftORk"
      },
      "execution_count": null,
      "outputs": []
    },
    {
      "cell_type": "markdown",
      "source": [
        "Print the rules using both item IDs and item names"
      ],
      "metadata": {
        "id": "QTrB4r3A5A2P"
      }
    },
    {
      "cell_type": "code",
      "source": [
        "def print_association_rules(association_rules):\n",
        "  '''\n",
        "  :@association_rules: the output of generate_association_rules\n",
        "  '''\n",
        "  # Print the rules using both item IDs, e.g., ('2064',) --> ('2828',) [support: 0.0314, confidence: 0.6767241379310345]\n",
        "  print('******** ASSOCIATION RULES with ITEM IDs ********')\n",
        "  # Your code\n",
        "\n",
        "  # Print the rules using both item names, e.g., JUMBO BAG RED RETROSPOT,  --> DOTCOM POSTAGE, [support: 0.0314, confidence: 0.6767241379310345]\n",
        "  print('\\n******** ASSOCIATION RULES with ITEM NAMES ********')\n",
        "  # Your code\n"
      ],
      "metadata": {
        "id": "EQogZDEd5DRm"
      },
      "execution_count": null,
      "outputs": []
    },
    {
      "cell_type": "markdown",
      "source": [
        "Recommendation with association rules: given a transaction, recommend zero or items according to the association_rules based on the given recommendation algorithm. The function should print out the fired rules (using item IDs) and return the list of recommended items (using item IDs)."
      ],
      "metadata": {
        "id": "7dz8pTJ1t5i0"
      }
    },
    {
      "cell_type": "code",
      "source": [
        "def recommend(transaction, association_rules):\n",
        "  '''\n",
        "  :@transaction: a list of item IDs\n",
        "  :@association_rules: the output of generate_assocication_rules\n",
        "  '''\n",
        "  # Your code\n",
        "\n",
        "  print('*** Rules fired ***')\n",
        "  #Your code\n",
        "\n",
        "  return list(recommendations)"
      ],
      "metadata": {
        "id": "rfEWvGSyuuuS"
      },
      "execution_count": null,
      "outputs": []
    },
    {
      "cell_type": "markdown",
      "source": [
        "Print the names of the recommended items"
      ],
      "metadata": {
        "id": "fJ8ZBNDW3ToX"
      }
    },
    {
      "cell_type": "code",
      "source": [
        "def print_recommended_items(recommended_items):\n",
        "  '''\n",
        "  :@recommended_items: the output of recommend\n",
        "  '''\n",
        "  # Your code"
      ],
      "metadata": {
        "id": "6-FKIXiy3XzP"
      },
      "execution_count": null,
      "outputs": []
    },
    {
      "cell_type": "markdown",
      "source": [
        "Main program"
      ],
      "metadata": {
        "id": "OjQvuYbGq8SM"
      }
    },
    {
      "cell_type": "code",
      "source": [
        "# Set the support and confidence thresholds (the values can be changed)\n",
        "min_support = 0.025\n",
        "min_confidence = 0.6\n",
        "\n",
        "# Run Apriori\n",
        "frequent_itemsets_all = apriori(transactions, min_support)"
      ],
      "metadata": {
        "id": "iymb9LT92RTo"
      },
      "execution_count": null,
      "outputs": []
    },
    {
      "cell_type": "code",
      "source": [
        "# Print the generated rules\n",
        "print_frequent_itemsets(frequent_itemsets_all)"
      ],
      "metadata": {
        "id": "QqQGenUw_2xE",
        "collapsed": true
      },
      "execution_count": null,
      "outputs": []
    },
    {
      "cell_type": "code",
      "source": [
        "# Generate association rules\n",
        "association_rules = generate_association_rules(frequent_itemsets_all, min_confidence)\n",
        "\n",
        "# Print the generated association rules\n",
        "print_association_rules(association_rules)"
      ],
      "metadata": {
        "id": "3cWt_f6f9df1"
      },
      "execution_count": null,
      "outputs": []
    },
    {
      "cell_type": "code",
      "source": [
        "# Given a new transaction\n",
        "new_transaction = [2826, 2839, 1002, 3623]\n",
        "\n",
        "# Make recommendations\n",
        "recommended_items = recommend(new_transaction, association_rules)\n",
        "\n",
        "# Print the item IDs and names of the recommended items\n",
        "print_recommended_items(recommended_items)"
      ],
      "metadata": {
        "id": "NdOw7FCy8-8G"
      },
      "execution_count": null,
      "outputs": []
    }
  ]
}